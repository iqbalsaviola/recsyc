{
  "nbformat": 4,
  "nbformat_minor": 0,
  "metadata": {
    "colab": {
      "provenance": [],
      "collapsed_sections": [
        "UXuv0cAe_hFv",
        "RUHNLkBg_qLV"
      ]
    },
    "kernelspec": {
      "name": "python3",
      "display_name": "Python 3"
    },
    "language_info": {
      "name": "python"
    }
  },
  "cells": [
    {
      "cell_type": "markdown",
      "source": [
        "#### Task 1 Recommender System - MAE, RMSE, and NDCG\n",
        "\n",
        "*Name : Iqbal Saviola Syah Billhaq*\n",
        "\n",
        "*NIM : 1301190318*\n",
        "\n",
        "*Class : CII4H3-IF-43-PIL-DS01*"
      ],
      "metadata": {
        "id": "KxwWGjCak2Sc"
      }
    },
    {
      "cell_type": "markdown",
      "source": [
        "#### Task Description\n",
        "\n",
        "- Bandingkan nilai prediksi algoritma A, B, dan C dengan original rating (rui).\n",
        "\n",
        "- Buat source code dalam google colaboratory untuk menghitung nilai MAE, RMSE dan NDCG\n",
        "\n",
        "- Dengan melihat nilai MAE, RMSE, dan NDCG pada ketiga perbandingan tersebut, algoritma mana yang menghasilkan nilai prediksi paling baik?"
      ],
      "metadata": {
        "id": "k3DBRAqOkjLk"
      }
    },
    {
      "cell_type": "code",
      "execution_count": 37,
      "metadata": {
        "id": "r0B_CQ2OhJli"
      },
      "outputs": [],
      "source": [
        "import numpy as np\n",
        "import pandas as pd\n",
        "from math import trunc"
      ]
    },
    {
      "cell_type": "code",
      "source": [
        "df = pd.read_csv(\"https://docs.google.com/spreadsheets/d/e/2PACX-1vRusmwwIwX4P0JVmk0NIJmll16glqD2kha6VZjyHqLbbgQ3NsWaCRpLhvlfSI25KRBO2G3RrCWJNEc-/pub?gid=0&single=true&output=csv\")"
      ],
      "metadata": {
        "id": "r6mq6SzTjh-z"
      },
      "execution_count": 38,
      "outputs": []
    },
    {
      "cell_type": "code",
      "source": [
        "df.head()"
      ],
      "metadata": {
        "colab": {
          "base_uri": "https://localhost:8080/",
          "height": 206
        },
        "id": "3RqofDBSwJ6-",
        "outputId": "fdefec87-2648-41bc-f4ba-3297f4be90c4"
      },
      "execution_count": 39,
      "outputs": [
        {
          "output_type": "execute_result",
          "data": {
            "text/plain": [
              "   uid  iid  rui  Pred A  Pred B  Pred C\n",
              "0    1  111    1    1.00    1.00    2.12\n",
              "1    1   12    2    2.08    1.00    3.73\n",
              "2    1   73    4    4.75    4.42    4.02\n",
              "3    1   48    5    4.41    5.00    3.39\n",
              "4    1  110    1    2.24    1.00    1.00"
            ],
            "text/html": [
              "\n",
              "  <div id=\"df-6bb6e395-728e-4e6f-ac27-cb7b92aa3e06\">\n",
              "    <div class=\"colab-df-container\">\n",
              "      <div>\n",
              "<style scoped>\n",
              "    .dataframe tbody tr th:only-of-type {\n",
              "        vertical-align: middle;\n",
              "    }\n",
              "\n",
              "    .dataframe tbody tr th {\n",
              "        vertical-align: top;\n",
              "    }\n",
              "\n",
              "    .dataframe thead th {\n",
              "        text-align: right;\n",
              "    }\n",
              "</style>\n",
              "<table border=\"1\" class=\"dataframe\">\n",
              "  <thead>\n",
              "    <tr style=\"text-align: right;\">\n",
              "      <th></th>\n",
              "      <th>uid</th>\n",
              "      <th>iid</th>\n",
              "      <th>rui</th>\n",
              "      <th>Pred A</th>\n",
              "      <th>Pred B</th>\n",
              "      <th>Pred C</th>\n",
              "    </tr>\n",
              "  </thead>\n",
              "  <tbody>\n",
              "    <tr>\n",
              "      <th>0</th>\n",
              "      <td>1</td>\n",
              "      <td>111</td>\n",
              "      <td>1</td>\n",
              "      <td>1.00</td>\n",
              "      <td>1.00</td>\n",
              "      <td>2.12</td>\n",
              "    </tr>\n",
              "    <tr>\n",
              "      <th>1</th>\n",
              "      <td>1</td>\n",
              "      <td>12</td>\n",
              "      <td>2</td>\n",
              "      <td>2.08</td>\n",
              "      <td>1.00</td>\n",
              "      <td>3.73</td>\n",
              "    </tr>\n",
              "    <tr>\n",
              "      <th>2</th>\n",
              "      <td>1</td>\n",
              "      <td>73</td>\n",
              "      <td>4</td>\n",
              "      <td>4.75</td>\n",
              "      <td>4.42</td>\n",
              "      <td>4.02</td>\n",
              "    </tr>\n",
              "    <tr>\n",
              "      <th>3</th>\n",
              "      <td>1</td>\n",
              "      <td>48</td>\n",
              "      <td>5</td>\n",
              "      <td>4.41</td>\n",
              "      <td>5.00</td>\n",
              "      <td>3.39</td>\n",
              "    </tr>\n",
              "    <tr>\n",
              "      <th>4</th>\n",
              "      <td>1</td>\n",
              "      <td>110</td>\n",
              "      <td>1</td>\n",
              "      <td>2.24</td>\n",
              "      <td>1.00</td>\n",
              "      <td>1.00</td>\n",
              "    </tr>\n",
              "  </tbody>\n",
              "</table>\n",
              "</div>\n",
              "      <button class=\"colab-df-convert\" onclick=\"convertToInteractive('df-6bb6e395-728e-4e6f-ac27-cb7b92aa3e06')\"\n",
              "              title=\"Convert this dataframe to an interactive table.\"\n",
              "              style=\"display:none;\">\n",
              "        \n",
              "  <svg xmlns=\"http://www.w3.org/2000/svg\" height=\"24px\"viewBox=\"0 0 24 24\"\n",
              "       width=\"24px\">\n",
              "    <path d=\"M0 0h24v24H0V0z\" fill=\"none\"/>\n",
              "    <path d=\"M18.56 5.44l.94 2.06.94-2.06 2.06-.94-2.06-.94-.94-2.06-.94 2.06-2.06.94zm-11 1L8.5 8.5l.94-2.06 2.06-.94-2.06-.94L8.5 2.5l-.94 2.06-2.06.94zm10 10l.94 2.06.94-2.06 2.06-.94-2.06-.94-.94-2.06-.94 2.06-2.06.94z\"/><path d=\"M17.41 7.96l-1.37-1.37c-.4-.4-.92-.59-1.43-.59-.52 0-1.04.2-1.43.59L10.3 9.45l-7.72 7.72c-.78.78-.78 2.05 0 2.83L4 21.41c.39.39.9.59 1.41.59.51 0 1.02-.2 1.41-.59l7.78-7.78 2.81-2.81c.8-.78.8-2.07 0-2.86zM5.41 20L4 18.59l7.72-7.72 1.47 1.35L5.41 20z\"/>\n",
              "  </svg>\n",
              "      </button>\n",
              "      \n",
              "  <style>\n",
              "    .colab-df-container {\n",
              "      display:flex;\n",
              "      flex-wrap:wrap;\n",
              "      gap: 12px;\n",
              "    }\n",
              "\n",
              "    .colab-df-convert {\n",
              "      background-color: #E8F0FE;\n",
              "      border: none;\n",
              "      border-radius: 50%;\n",
              "      cursor: pointer;\n",
              "      display: none;\n",
              "      fill: #1967D2;\n",
              "      height: 32px;\n",
              "      padding: 0 0 0 0;\n",
              "      width: 32px;\n",
              "    }\n",
              "\n",
              "    .colab-df-convert:hover {\n",
              "      background-color: #E2EBFA;\n",
              "      box-shadow: 0px 1px 2px rgba(60, 64, 67, 0.3), 0px 1px 3px 1px rgba(60, 64, 67, 0.15);\n",
              "      fill: #174EA6;\n",
              "    }\n",
              "\n",
              "    [theme=dark] .colab-df-convert {\n",
              "      background-color: #3B4455;\n",
              "      fill: #D2E3FC;\n",
              "    }\n",
              "\n",
              "    [theme=dark] .colab-df-convert:hover {\n",
              "      background-color: #434B5C;\n",
              "      box-shadow: 0px 1px 3px 1px rgba(0, 0, 0, 0.15);\n",
              "      filter: drop-shadow(0px 1px 2px rgba(0, 0, 0, 0.3));\n",
              "      fill: #FFFFFF;\n",
              "    }\n",
              "  </style>\n",
              "\n",
              "      <script>\n",
              "        const buttonEl =\n",
              "          document.querySelector('#df-6bb6e395-728e-4e6f-ac27-cb7b92aa3e06 button.colab-df-convert');\n",
              "        buttonEl.style.display =\n",
              "          google.colab.kernel.accessAllowed ? 'block' : 'none';\n",
              "\n",
              "        async function convertToInteractive(key) {\n",
              "          const element = document.querySelector('#df-6bb6e395-728e-4e6f-ac27-cb7b92aa3e06');\n",
              "          const dataTable =\n",
              "            await google.colab.kernel.invokeFunction('convertToInteractive',\n",
              "                                                     [key], {});\n",
              "          if (!dataTable) return;\n",
              "\n",
              "          const docLinkHtml = 'Like what you see? Visit the ' +\n",
              "            '<a target=\"_blank\" href=https://colab.research.google.com/notebooks/data_table.ipynb>data table notebook</a>'\n",
              "            + ' to learn more about interactive tables.';\n",
              "          element.innerHTML = '';\n",
              "          dataTable['output_type'] = 'display_data';\n",
              "          await google.colab.output.renderOutput(dataTable, element);\n",
              "          const docLink = document.createElement('div');\n",
              "          docLink.innerHTML = docLinkHtml;\n",
              "          element.appendChild(docLink);\n",
              "        }\n",
              "      </script>\n",
              "    </div>\n",
              "  </div>\n",
              "  "
            ]
          },
          "metadata": {},
          "execution_count": 39
        }
      ]
    },
    {
      "cell_type": "markdown",
      "source": [
        "#### MAE (Mean Absolute Error)"
      ],
      "metadata": {
        "id": "UXuv0cAe_hFv"
      }
    },
    {
      "cell_type": "code",
      "source": [
        "def mae(rui, pred):\n",
        "    rui, pred = np.array(rui), np.array(pred)\n",
        "    return np.mean(np.abs(rui - pred))"
      ],
      "metadata": {
        "id": "rtoHs2sNwQjP"
      },
      "execution_count": 40,
      "outputs": []
    },
    {
      "cell_type": "markdown",
      "source": [
        "\n",
        "The MAE metric is calculated by the following formula: \n",
        "\n",
        "\\begin{align}\n",
        "        MAE = \\frac{ \\sum_{} 𝑢𝜖𝑈 \\sum_{} . 𝑖𝜖𝑡𝑒𝑠𝑡𝑠𝑒𝑡𝑢 |𝑟𝑒𝑐 𝑢,𝑖 −𝑟(𝑢,𝑖)|}{|𝑡𝑒𝑠𝑡𝑠𝑒𝑡𝑢|}\n",
        "\\end{align}\n",
        "\n",
        "The lowest error (value = 0) will be obtained when the accuracy is equal to 100%.\n",
        "\n",
        "MAE is not a good indicator, as all deviations are equally weighted"
      ],
      "metadata": {
        "id": "yEZCFo9o9t7-"
      }
    },
    {
      "cell_type": "code",
      "source": [
        "MAE_A = mae(df[\"rui\"], df[\"Pred A\"])\n",
        "MAE_B = mae(df[\"rui\"], df[\"Pred B\"])\n",
        "MAE_C = mae(df[\"rui\"], df[\"Pred C\"])\n",
        "\n",
        "print(MAE_A)\n",
        "print(MAE_B)\n",
        "print(MAE_C)"
      ],
      "metadata": {
        "colab": {
          "base_uri": "https://localhost:8080/"
        },
        "id": "42bCegFYnOz5",
        "outputId": "cd25a4d6-f080-471c-b2a6-b03ff5166511"
      },
      "execution_count": 42,
      "outputs": [
        {
          "output_type": "stream",
          "name": "stdout",
          "text": [
            "0.5374\n",
            "0.4799999999999999\n",
            "0.6796\n"
          ]
        }
      ]
    },
    {
      "cell_type": "code",
      "source": [
        "display_MAE_A = trunc(MAE_A * 100) / 100\n",
        "display_MAE_B = trunc(MAE_B * 100) / 100\n",
        "display_MAE_C = trunc(MAE_C * 100) / 100\n",
        "\n",
        "print(\"Prediction performance with Mean Absolute Error\")\n",
        "print(\"Prediction A = \", display_MAE_A)\n",
        "print(\"Prediction B = \", display_MAE_B)\n",
        "print(\"Prediction C = \", display_MAE_C)\n"
      ],
      "metadata": {
        "colab": {
          "base_uri": "https://localhost:8080/"
        },
        "id": "AVtstUeTwd_x",
        "outputId": "f6746ac9-a99c-40df-dfe7-445f10d23570"
      },
      "execution_count": 45,
      "outputs": [
        {
          "output_type": "stream",
          "name": "stdout",
          "text": [
            "Prediction performance with Mean Absolute Error\n",
            "Prediction A =  0.53\n",
            "Prediction B =  0.47\n",
            "Prediction C =  0.67\n"
          ]
        }
      ]
    },
    {
      "cell_type": "markdown",
      "source": [
        "#### Root Mean Square Error (RMSE)"
      ],
      "metadata": {
        "id": "RUHNLkBg_qLV"
      }
    },
    {
      "cell_type": "code",
      "source": [
        "def rmse(rui, pred):\n",
        "    rui, pred = np.array(rui), np.array(pred)\n",
        "    return np.sqrt(np.mean(np.square(rui - pred)))"
      ],
      "metadata": {
        "id": "5HH0nUlwy6D-"
      },
      "execution_count": 47,
      "outputs": []
    },
    {
      "cell_type": "markdown",
      "source": [
        "\n",
        "The RMSE metric is calculated by the following formula:\n",
        "\n",
        "\\begin{align}\n",
        "        RMSE = \\sqrt{MSE}\n",
        "\\end{align}\n",
        "\n",
        "The RMSE is the square root of MSE\n",
        "\n",
        "RMSE will amplify the performance when it’s value is less than 1"
      ],
      "metadata": {
        "id": "-XIP4oPXkBVX"
      }
    },
    {
      "cell_type": "code",
      "source": [
        "RMSE_A = rmse(df[\"rui\"], df[\"Pred A\"])\n",
        "RMSE_B = rmse(df[\"rui\"], df[\"Pred B\"])\n",
        "RMSE_C = rmse(df[\"rui\"], df[\"Pred C\"])\n",
        "\n",
        "print(RMSE_A)\n",
        "print(RMSE_B)\n",
        "print(RMSE_C)\n"
      ],
      "metadata": {
        "colab": {
          "base_uri": "https://localhost:8080/"
        },
        "outputId": "810ee591-0bfc-47b1-83d4-f35fb3daf4fe",
        "id": "ogKCWh4dzjj4"
      },
      "execution_count": 50,
      "outputs": [
        {
          "output_type": "stream",
          "name": "stdout",
          "text": [
            "0.6996699221775937\n",
            "0.6449527114448004\n",
            "0.9493766375891077\n"
          ]
        }
      ]
    },
    {
      "cell_type": "code",
      "source": [
        "display_RMSE_A = trunc(RMSE_A * 100) / 100\n",
        "display_RMSE_B = trunc(RMSE_B * 100) / 100\n",
        "display_RMSE_C = trunc(RMSE_C * 100) / 100\n",
        "\n",
        "print(\"Prediction performance with Root Mean Square Error\")\n",
        "print(\"Prediction A = \", display_RMSE_A)\n",
        "print(\"Prediction B = \", display_RMSE_B)\n",
        "print(\"Prediction C = \", display_RMSE_C)"
      ],
      "metadata": {
        "colab": {
          "base_uri": "https://localhost:8080/"
        },
        "id": "ZVZzK5BZukBY",
        "outputId": "e5003cd4-bdce-43cb-8be4-54d52d299613"
      },
      "execution_count": 51,
      "outputs": [
        {
          "output_type": "stream",
          "name": "stdout",
          "text": [
            "Prediction performance with Root Mean Square Error\n",
            "Prediction A =  0.69\n",
            "Prediction B =  0.64\n",
            "Prediction C =  0.94\n"
          ]
        }
      ]
    }
  ]
}